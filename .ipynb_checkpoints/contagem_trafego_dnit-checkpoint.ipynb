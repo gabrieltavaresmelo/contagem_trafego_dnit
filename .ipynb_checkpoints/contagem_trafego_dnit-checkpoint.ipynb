{
 "cells": [
  {
   "cell_type": "markdown",
   "id": "537fb2d4",
   "metadata": {},
   "source": [
    "# CONTAGEM DE TRÁFEGO\n",
    "\n",
    "O tráfego gerado é o efeito verificado quando melhorias em uma rodovia promovem o aumento do número de viagens, aumentando sua demanda. Deve-se, por isso, calcular a elasticidade da demanda da rodovia para estimar-se a parcela de tráfego gerado nos estudos de viabilidade técnica de rodovias federais brasileiras.\n",
    "\n",
    "Este projeto realiza o scraping no site do DNIT, obtem os dados e estrutura no pandas.\n",
    "\n",
    "https://servicos.dnit.gov.br/dadospnct/ContagemContinua"
   ]
  },
  {
   "cell_type": "markdown",
   "id": "d81befb7",
   "metadata": {},
   "source": [
    "# Instalação de Pacotes"
   ]
  },
  {
   "cell_type": "markdown",
   "id": "c0945482-607d-4d07-9010-7a6c0d2e9594",
   "metadata": {},
   "source": [
    "### Processo já realizado na criação do ambiente Anaconda.\n",
    "1. Crie um ambiente anaconda e instale as dependências conforme descrito no readme.md.\n",
    "2. Suba o jupyter notebook e escolha o ambiente criado.\n",
    "\n",
    "Obs.: É necessário a instalação do navegador Google Chrome no seu Sistema Operacional"
   ]
  },
  {
   "cell_type": "code",
   "execution_count": 11,
   "id": "7ed1e87a",
   "metadata": {},
   "outputs": [
    {
     "name": "stdout",
     "output_type": "stream",
     "text": [
      "Requirement already satisfied: Selenium==4.14.0 in /Users/gabriel/opt/anaconda3/envs/icd01/lib/python3.10/site-packages (4.14.0)\n",
      "Requirement already satisfied: urllib3<3,>=1.26 in /Users/gabriel/opt/anaconda3/envs/icd01/lib/python3.10/site-packages (from urllib3[socks]<3,>=1.26->Selenium==4.14.0) (2.0.7)\n",
      "Requirement already satisfied: trio~=0.17 in /Users/gabriel/opt/anaconda3/envs/icd01/lib/python3.10/site-packages (from Selenium==4.14.0) (0.22.2)\n",
      "Requirement already satisfied: trio-websocket~=0.9 in /Users/gabriel/opt/anaconda3/envs/icd01/lib/python3.10/site-packages (from Selenium==4.14.0) (0.11.1)\n",
      "Requirement already satisfied: certifi>=2021.10.8 in /Users/gabriel/opt/anaconda3/envs/icd01/lib/python3.10/site-packages (from Selenium==4.14.0) (2023.7.22)\n",
      "Requirement already satisfied: attrs>=20.1.0 in /Users/gabriel/opt/anaconda3/envs/icd01/lib/python3.10/site-packages (from trio~=0.17->Selenium==4.14.0) (23.1.0)\n",
      "Requirement already satisfied: sortedcontainers in /Users/gabriel/opt/anaconda3/envs/icd01/lib/python3.10/site-packages (from trio~=0.17->Selenium==4.14.0) (2.4.0)\n",
      "Requirement already satisfied: idna in /Users/gabriel/opt/anaconda3/envs/icd01/lib/python3.10/site-packages (from trio~=0.17->Selenium==4.14.0) (3.4)\n",
      "Requirement already satisfied: outcome in /Users/gabriel/opt/anaconda3/envs/icd01/lib/python3.10/site-packages (from trio~=0.17->Selenium==4.14.0) (1.3.0)\n",
      "Requirement already satisfied: sniffio in /Users/gabriel/opt/anaconda3/envs/icd01/lib/python3.10/site-packages (from trio~=0.17->Selenium==4.14.0) (1.3.0)\n",
      "Requirement already satisfied: exceptiongroup>=1.0.0rc9 in /Users/gabriel/opt/anaconda3/envs/icd01/lib/python3.10/site-packages (from trio~=0.17->Selenium==4.14.0) (1.1.3)\n",
      "Requirement already satisfied: wsproto>=0.14 in /Users/gabriel/opt/anaconda3/envs/icd01/lib/python3.10/site-packages (from trio-websocket~=0.9->Selenium==4.14.0) (1.2.0)\n",
      "Requirement already satisfied: pysocks!=1.5.7,<2.0,>=1.5.6 in /Users/gabriel/opt/anaconda3/envs/icd01/lib/python3.10/site-packages (from urllib3[socks]<3,>=1.26->Selenium==4.14.0) (1.7.1)\n",
      "Requirement already satisfied: h11<1,>=0.9.0 in /Users/gabriel/opt/anaconda3/envs/icd01/lib/python3.10/site-packages (from wsproto>=0.14->trio-websocket~=0.9->Selenium==4.14.0) (0.14.0)\n",
      "Requirement already satisfied: bs4==0.0.1 in /Users/gabriel/opt/anaconda3/envs/icd01/lib/python3.10/site-packages (0.0.1)\n",
      "Requirement already satisfied: beautifulsoup4 in /Users/gabriel/opt/anaconda3/envs/icd01/lib/python3.10/site-packages (from bs4==0.0.1) (4.12.2)\n",
      "Requirement already satisfied: soupsieve>1.2 in /Users/gabriel/opt/anaconda3/envs/icd01/lib/python3.10/site-packages (from beautifulsoup4->bs4==0.0.1) (2.5)\n",
      "Requirement already satisfied: pandas==1.5.3 in /Users/gabriel/opt/anaconda3/envs/icd01/lib/python3.10/site-packages (1.5.3)\n",
      "Requirement already satisfied: python-dateutil>=2.8.1 in /Users/gabriel/opt/anaconda3/envs/icd01/lib/python3.10/site-packages (from pandas==1.5.3) (2.8.2)\n",
      "Requirement already satisfied: pytz>=2020.1 in /Users/gabriel/opt/anaconda3/envs/icd01/lib/python3.10/site-packages (from pandas==1.5.3) (2023.3.post1)\n",
      "Requirement already satisfied: numpy>=1.21.0 in /Users/gabriel/opt/anaconda3/envs/icd01/lib/python3.10/site-packages (from pandas==1.5.3) (1.26.1)\n",
      "Requirement already satisfied: six>=1.5 in /Users/gabriel/opt/anaconda3/envs/icd01/lib/python3.10/site-packages (from python-dateutil>=2.8.1->pandas==1.5.3) (1.16.0)\n",
      "Requirement already satisfied: requests==2.31.0 in /Users/gabriel/opt/anaconda3/envs/icd01/lib/python3.10/site-packages (2.31.0)\n",
      "Requirement already satisfied: charset-normalizer<4,>=2 in /Users/gabriel/opt/anaconda3/envs/icd01/lib/python3.10/site-packages (from requests==2.31.0) (3.3.1)\n",
      "Requirement already satisfied: idna<4,>=2.5 in /Users/gabriel/opt/anaconda3/envs/icd01/lib/python3.10/site-packages (from requests==2.31.0) (3.4)\n",
      "Requirement already satisfied: urllib3<3,>=1.21.1 in /Users/gabriel/opt/anaconda3/envs/icd01/lib/python3.10/site-packages (from requests==2.31.0) (2.0.7)\n",
      "Requirement already satisfied: certifi>=2017.4.17 in /Users/gabriel/opt/anaconda3/envs/icd01/lib/python3.10/site-packages (from requests==2.31.0) (2023.7.22)\n",
      "Requirement already satisfied: lxml==4.9.3 in /Users/gabriel/opt/anaconda3/envs/icd01/lib/python3.10/site-packages (4.9.3)\n",
      "Collecting webdriver-manager\n",
      "  Downloading webdriver_manager-4.0.1-py2.py3-none-any.whl.metadata (12 kB)\n",
      "Requirement already satisfied: requests in /Users/gabriel/opt/anaconda3/envs/icd01/lib/python3.10/site-packages (from webdriver-manager) (2.31.0)\n",
      "Collecting python-dotenv (from webdriver-manager)\n",
      "  Downloading python_dotenv-1.0.0-py3-none-any.whl (19 kB)\n",
      "Collecting packaging (from webdriver-manager)\n",
      "  Downloading packaging-23.2-py3-none-any.whl.metadata (3.2 kB)\n",
      "Requirement already satisfied: charset-normalizer<4,>=2 in /Users/gabriel/opt/anaconda3/envs/icd01/lib/python3.10/site-packages (from requests->webdriver-manager) (3.3.1)\n",
      "Requirement already satisfied: idna<4,>=2.5 in /Users/gabriel/opt/anaconda3/envs/icd01/lib/python3.10/site-packages (from requests->webdriver-manager) (3.4)\n",
      "Requirement already satisfied: urllib3<3,>=1.21.1 in /Users/gabriel/opt/anaconda3/envs/icd01/lib/python3.10/site-packages (from requests->webdriver-manager) (2.0.7)\n",
      "Requirement already satisfied: certifi>=2017.4.17 in /Users/gabriel/opt/anaconda3/envs/icd01/lib/python3.10/site-packages (from requests->webdriver-manager) (2023.7.22)\n",
      "Downloading webdriver_manager-4.0.1-py2.py3-none-any.whl (27 kB)\n",
      "Downloading packaging-23.2-py3-none-any.whl (53 kB)\n",
      "\u001b[2K   \u001b[38;2;114;156;31m━━━━━━━━━━━━━━━━━━━━━━━━━━━━━━━━━━━━━━━━\u001b[0m \u001b[32m53.0/53.0 kB\u001b[0m \u001b[31m3.6 MB/s\u001b[0m eta \u001b[36m0:00:00\u001b[0m\n",
      "\u001b[?25hInstalling collected packages: python-dotenv, packaging, webdriver-manager\n",
      "Successfully installed packaging-23.2 python-dotenv-1.0.0 webdriver-manager-4.0.1\n"
     ]
    }
   ],
   "source": [
    "# !pip install Selenium==4.14.0\n",
    "# !pip install bs4==0.0.1\n",
    "# !pip install pandas==1.5.3\n",
    "# !pip install requests==2.31.0\n",
    "# !pip install lxml==4.9.3\n",
    "# !pip install webdriver-manager"
   ]
  },
  {
   "cell_type": "markdown",
   "id": "f95f3e22",
   "metadata": {},
   "source": [
    "# Importação de Bibliotecas"
   ]
  },
  {
   "cell_type": "code",
   "execution_count": 1,
   "id": "d0f4e324",
   "metadata": {},
   "outputs": [],
   "source": [
    "# import requests\n",
    "import pandas as pd\n",
    "from bs4 import BeautifulSoup\n",
    "from selenium import webdriver\n",
    "from selenium.webdriver.firefox.options import Options\n",
    "import time"
   ]
  },
  {
   "cell_type": "markdown",
   "id": "e2d372ec",
   "metadata": {},
   "source": [
    "# Função para abrir o navegador com Selenium"
   ]
  },
  {
   "cell_type": "code",
   "execution_count": 2,
   "id": "3a692d4b",
   "metadata": {},
   "outputs": [],
   "source": [
    "def driversetup(isChrome):\n",
    "    if(isChrome):\n",
    "        print('Chrome')\n",
    "        options = webdriver.ChromeOptions()\n",
    "        #run Selenium in headless mode\n",
    "        # options.add_argument('--headless')\n",
    "        # options.add_argument('--no-sandbox')\n",
    "        #overcome limited resource problems\n",
    "        options.add_argument('--disable-dev-shm-usage')\n",
    "        # options.add_argument(\"lang=en\")\n",
    "        # #open Browser in maximized mode\n",
    "        # options.add_argument(\"start-maximized\")\n",
    "        # #disable infobars\n",
    "        # options.add_argument(\"disable-infobars\")\n",
    "        # #disable extension\n",
    "        # options.add_argument(\"--disable-extensions\")\n",
    "        # options.add_argument(\"--incognito\")\n",
    "        # options.add_argument(\"--disable-blink-features=AutomationControlled\")\n",
    "        \n",
    "        driver = webdriver.Chrome(options=options)\n",
    "\n",
    "        # driver.execute_script(\"Object.defineProperty(navigator, 'webdriver', {get: () => undefined});\")\n",
    "\n",
    "    else:\n",
    "        print('Firefox')\n",
    "        option = Options()\n",
    "        option.headless = True\n",
    "        # option.set_preference(\"http.response.timeout\", 5)\n",
    "        # option.set_preference(\"dom.max_script_run_time\", 5)\n",
    "        driver = webdriver.Firefox(options=option)\n",
    "\n",
    "    return driver"
   ]
  },
  {
   "cell_type": "markdown",
   "id": "ce5fe80e",
   "metadata": {},
   "source": [
    "# Execução do Projeto"
   ]
  },
  {
   "cell_type": "code",
   "execution_count": 4,
   "id": "7fa57cac",
   "metadata": {},
   "outputs": [
    {
     "name": "stdout",
     "output_type": "stream",
     "text": [
      "Chrome\n",
      "https://servicos.dnit.gov.br/dadospnct/ContagemContinua\n",
      "loaded\n"
     ]
    }
   ],
   "source": [
    "isChrome = True\n",
    "url = 'https://servicos.dnit.gov.br/dadospnct/ContagemContinua'\n",
    "driver = driversetup(isChrome)\n",
    "print(url)\n",
    "\n",
    "driver.get(url)\n",
    "print('loaded')"
   ]
  },
  {
   "cell_type": "markdown",
   "id": "9ce52ba3",
   "metadata": {},
   "source": [
    "## Seleção dos Filtros"
   ]
  },
  {
   "cell_type": "code",
   "execution_count": 5,
   "id": "ece80a8a",
   "metadata": {},
   "outputs": [],
   "source": [
    "#Seleção do estado CE\n",
    "driver.find_element(\"xpath\", '//body/div[2]/div[3]/div[2]/div/div[2]/div[1]/div[2]/form/div[2]/div[1]/div/select/option[6]').click()\n",
    "\n",
    "#Seleção da va BR-020:\n",
    "driver.find_element(\"xpath\", '//body/div[2]/div[3]/div[2]/div/div[2]/div[1]/div[2]/form/div[2]/div[2]/div/select/option[2]').click()\n",
    "\n",
    "#Seleção de todos os postos de controle:\n",
    "driver.find_element(\"xpath\", '//body/div[2]/div[3]/div[2]/div/div[2]/div[1]/div[2]/form/div[3]/div').click()\n",
    "driver.find_element(\"xpath\", '//body/div[2]/div[3]/div[2]/div/div[2]/div[1]/div[2]/form/div[3]/div/div/ul/li[3]/label/input').click()\n",
    "driver.implicitly_wait(1)\n",
    "\n",
    "#Seleção do botão BUSCAR:\n",
    "driver.find_element(\"xpath\", '//body/div[2]/div[3]/div[2]/div/div[2]/div[1]/div[2]/form/div[4]/input').click()\n",
    "driver.implicitly_wait(5)"
   ]
  },
  {
   "cell_type": "markdown",
   "id": "f341e3c1",
   "metadata": {},
   "source": [
    "## Obtenção dos dados para o ano 2014"
   ]
  },
  {
   "cell_type": "code",
   "execution_count": 6,
   "id": "78453558",
   "metadata": {},
   "outputs": [],
   "source": [
    "#Seleção do ANO 2014:\n",
    "driver.find_element(\"xpath\", '//body/div[2]/div[4]/div/div/div/div[3]/div/div/div[2]/div/a[1]').click()\n",
    "driver.implicitly_wait(3)\n",
    "\n",
    "#Seleção da Aba Volume Total Diário:\n",
    "driver.find_element(\"xpath\", '//body/div[2]/div[4]/div/div/div/div[3]/div/div/div[3]/ul/li[2]/a').click()\n",
    "driver.implicitly_wait(3)\n",
    "\n",
    "#Seleção do mês:\n",
    "driver.find_element(\"xpath\", '//body/div[2]/div[4]/div/div/div/div[3]/div/div/div[3]/div/div[2]/div[1]/select/option[5]').click()\n",
    "driver.implicitly_wait(3)\n",
    "\n",
    "#Abre o modal VMD:\n",
    "driver.find_element(\"xpath\", '//body/div[2]/div[4]/div/div/div/div[3]/div/div/div[3]/div/div[2]/div[4]/input').click()\n",
    "driver.implicitly_wait(8)\n",
    "\n",
    "#Download do arquivo Excel:\n",
    "driver.find_element(\"xpath\", '//body/div[4]/div[1]/span/span/input').click()\n",
    "driver.implicitly_wait(5)\n",
    "\n",
    "#Ler o conteúdo da Table:\n",
    "element = driver.find_element(\"xpath\", '/html/body/div[4]')\n",
    "driver.implicitly_wait(5)\n",
    "\n",
    "elementHTML = element.get_attribute('outerHTML') #gives exact HTML content of the element\n",
    "elementSoup = BeautifulSoup(elementHTML,'html.parser')\n",
    "# print(elementSoup)\n",
    "# print('----------------------')\n",
    "# print(elementSoup.prettify())\n",
    "# print('----------------------')\n",
    "# print(type(elementSoup))\n",
    "\n",
    "tableElement = elementSoup.find(id='TabVtd230202')\n",
    "# print(tableElement.prettify())"
   ]
  },
  {
   "cell_type": "markdown",
   "id": "71edb796",
   "metadata": {},
   "source": [
    "## Salva em um arquivo TXT"
   ]
  },
  {
   "cell_type": "code",
   "execution_count": null,
   "id": "e363f6cc",
   "metadata": {},
   "outputs": [],
   "source": [
    "with open('vmd2014.txt', 'w') as f:\n",
    "    f.write(str(elementSoup))\n",
    "\n",
    "with open('table2014.txt', 'w') as f:\n",
    "    f.write(str(tableElement))"
   ]
  },
  {
   "cell_type": "markdown",
   "id": "441101de",
   "metadata": {},
   "source": [
    "## Converte a Table (HTML) para um DataFrame do Pandas"
   ]
  },
  {
   "cell_type": "code",
   "execution_count": null,
   "id": "4c6fd2a6",
   "metadata": {},
   "outputs": [],
   "source": [
    "tableStr = str(tableElement)\n",
    "dfs = pd.read_html(tableStr, encoding='UTF-8')\n",
    "df = dfs[0].dropna(axis=0, thresh=4)\n",
    "df = df.rename(columns={'Unnamed: 0': 'Classe', 'Unnamed: 1': 'Descrição', 'Unnamed: 2': 'Sentido', \n",
    "                        'Unnamed: 3': '1', 'Unnamed: 4': '2', 'Unnamed: 5': '3', 'Unnamed: 6': '4', \n",
    "                        'Unnamed: 7': '5', 'Unnamed: 8': '6', 'Unnamed: 9': '7', 'Unnamed: 10': '8', \n",
    "                        'Unnamed: 11': '9', 'Unnamed: 12': '10', 'Unnamed: 13': '11', 'Unnamed: 14': '12', \n",
    "                        'Unnamed: 15': '13', 'Unnamed: 16': '14', 'Unnamed: 17': '15', 'Unnamed: 18': '16', \n",
    "                        'Unnamed: 19': '17', 'Unnamed: 20': '18', 'Unnamed: 21': '19', 'Unnamed: 22': '20', \n",
    "                        'Unnamed: 23': '21', 'Unnamed: 24': '22', 'Unnamed: 25': '23', 'Unnamed: 26': '24', \n",
    "                        'Unnamed: 27': '25', 'Unnamed: 28': '26', 'Unnamed: 29': '27', 'Unnamed: 30': '28',\n",
    "                        'Unnamed: 31': '29', 'Unnamed: 32': '30', 'Unnamed: 33': '31', 'Unnamed: 34': 'Total'})\n",
    "\n",
    "df.to_csv('table2014.csv', sep=';', encoding='utf-8')"
   ]
  }
 ],
 "metadata": {
  "kernelspec": {
   "display_name": "Python [conda env:icd01] *",
   "language": "python",
   "name": "conda-env-icd01-py"
  },
  "language_info": {
   "codemirror_mode": {
    "name": "ipython",
    "version": 3
   },
   "file_extension": ".py",
   "mimetype": "text/x-python",
   "name": "python",
   "nbconvert_exporter": "python",
   "pygments_lexer": "ipython3",
   "version": "3.10.12"
  }
 },
 "nbformat": 4,
 "nbformat_minor": 5
}
